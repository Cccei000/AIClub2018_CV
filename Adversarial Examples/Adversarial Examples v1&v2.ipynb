{
 "cells": [
  {
   "cell_type": "code",
   "execution_count": 4,
   "metadata": {},
   "outputs": [],
   "source": [
    "import torch as t\n",
    "import torch.nn as nn\n",
    "import torch.nn.functional as F\n",
    "import torchvision as tv\n",
    "import torchvision.transforms as transforms\n",
    "import numpy as np\n",
    "import matplotlib.pyplot as mpl\n",
    "%matplotlib inline"
   ]
  },
  {
   "cell_type": "code",
   "execution_count": 5,
   "metadata": {},
   "outputs": [],
   "source": [
    "device = t.device(\"cuda\" if t.cuda.is_available() else \"cpu\")"
   ]
  },
  {
   "cell_type": "code",
   "execution_count": 6,
   "metadata": {},
   "outputs": [],
   "source": [
    "train_data = tv.datasets.MNIST(\n",
    "    './MNIST_data',train = True,transform = transforms.ToTensor(),download = True)\n",
    "test_data = tv.datasets.MNIST(\n",
    "    './MNIST_data',train = False,transform = transforms.ToTensor())\n",
    "train_data.train_data = train_data.train_data.unsqueeze(1).float().to(device)\n",
    "train_data.train_labels = train_data.train_labels.to(device)\n",
    "test_data.test_data = test_data.test_data.unsqueeze(1).float().to(device)\n",
    "test_data.test_labels = test_data.test_labels.to(device)"
   ]
  },
  {
   "cell_type": "code",
   "execution_count": 7,
   "metadata": {},
   "outputs": [],
   "source": [
    "class Net(nn.Module):\n",
    "    def __init__(self):\n",
    "        super(Net,self).__init__()\n",
    "        self.conv1 = nn.Conv2d(1,8,5)\n",
    "        self.pool = nn.MaxPool2d(2,2)\n",
    "        self.conv2 = nn.Conv2d(8,16,5)\n",
    "        self.conv3 = nn.Conv2d(16,20,5)\n",
    "        self.fc1 = nn.Linear(20*4*4,50)\n",
    "        self.fc2 = nn.Linear(50,10)\n",
    "        \n",
    "    def forward(self,x):\n",
    "        x = F.relu(self.conv1(x))\n",
    "        x = self.pool(x)\n",
    "        x = F.relu(self.conv2(x))\n",
    "        x = F.relu(self.conv3(x))\n",
    "        x = x.view(-1,20*4*4)\n",
    "        x = F.relu(self.fc1(x))\n",
    "        x = self.fc2(x)\n",
    "        return x        "
   ]
  },
  {
   "cell_type": "code",
   "execution_count": 8,
   "metadata": {},
   "outputs": [],
   "source": [
    "net = Net()\n",
    "net.to(device)\n",
    "criterion = nn.CrossEntropyLoss()\n",
    "optimizer = t.optim.Adam(net.parameters())"
   ]
  },
  {
   "cell_type": "code",
   "execution_count": 10,
   "metadata": {},
   "outputs": [
    {
     "name": "stdout",
     "output_type": "stream",
     "text": [
      "Epoch 0 accuracy: 0.974\n",
      "Epoch 1 accuracy: 0.973\n",
      "Epoch 2 accuracy: 0.9855\n",
      "Epoch 3 accuracy: 0.992\n",
      "Epoch 4 accuracy: 0.991\n"
     ]
    }
   ],
   "source": [
    "batch_size = 100\n",
    "epochs = int(60000/batch_size)\n",
    "net.zero_grad()\n",
    "for _ in range(5):\n",
    "    for i in range(epochs):\n",
    "        batch_x = train_data.train_data[100*i:100*(i+1)]\n",
    "        batch_y = train_data.train_labels[100*i:100*(i+1)]      \n",
    "        pred_y = net(batch_x)\n",
    "        loss = criterion(pred_y,batch_y)\n",
    "        optimizer.zero_grad()\n",
    "        loss.backward()\n",
    "        optimizer.step()\n",
    "    out = net(test_data.test_data[2000*_:2000*(_+1)])\n",
    "    pred = out.max(1)[1]\n",
    "    num_correct = (pred == test_data.test_labels[2000*_:2000*(_+1)]).sum()\n",
    "    print('Epoch {} accuracy:'.format(_),num_correct.item()/2000)"
   ]
  },
  {
   "cell_type": "code",
   "execution_count": 11,
   "metadata": {},
   "outputs": [],
   "source": [
    "def adversarial_v1(inputs,labels,net,criterion,epochs):\n",
    "    inputs_ = inputs.unsqueeze(0)\n",
    "    adX = 100*t.rand(1,1,28,28,device = device).float()\n",
    "    adX.requires_grad = True\n",
    "    adY = t.tensor(labels).unsqueeze(0).long().to(device)\n",
    "    optimizer = t.optim.SGD([adX],lr=0.1,momentum=0.9)\n",
    "    for i in range(epochs):    \n",
    "        inX = adX+inputs_\n",
    "        loss1 = criterion(net(inX),adY)\n",
    "        loss2 = adX.mean()\n",
    "        #loss3 = t.sqrt((adX**2).sum())\n",
    "        loss = 5000*loss1+100*loss2\n",
    "        optimizer.zero_grad()\n",
    "        loss.backward()\n",
    "        optimizer.step()\n",
    "        adX.data = t.clamp(adX,-15,15)\n",
    "        #if i%100 == 0:\n",
    "            #print(loss1.item(),loss2.item(),loss3.item())\n",
    "    return adX"
   ]
  },
  {
   "cell_type": "code",
   "execution_count": 13,
   "metadata": {},
   "outputs": [
    {
     "name": "stdout",
     "output_type": "stream",
     "text": [
      "Epoch 10 success rate: 0.4.\n",
      "Epoch 20 success rate: 0.55.\n",
      "Epoch 30 success rate: 0.5666666666666667.\n",
      "Epoch 40 success rate: 0.55.\n",
      "Epoch 50 success rate: 0.58.\n",
      "Epoch 60 success rate: 0.55.\n",
      "Epoch 70 success rate: 0.5714285714285714.\n",
      "Epoch 80 success rate: 0.6.\n",
      "Epoch 90 success rate: 0.5666666666666667.\n",
      "Epoch 100 success rate: 0.58.\n",
      "Final average successful L2 norm: 390.9695129394531\n"
     ]
    }
   ],
   "source": [
    "total_size = 100\n",
    "success_times = 0\n",
    "L2 = 0\n",
    "for i in range(total_size):\n",
    "    inX = train_data.train_data[i]\n",
    "    trueY = train_data.train_labels[i].item()\n",
    "    targetY = np.random.randint(10)\n",
    "    if trueY == targetY:\n",
    "        targetY = (targetY+1)%10\n",
    "    adX = adversarial_v1(inX,targetY,net,criterion,500)\n",
    "    output = net(adX+inX.unsqueeze(0))\n",
    "    predY = output.max(1)[1].item()\n",
    "    if predY == targetY:\n",
    "        success_times += 1 \n",
    "        L2 += t.sqrt((adX**2).sum())\n",
    "    if i%10 == 9:\n",
    "        print(\"Epoch {} success rate: {}.\".format(i+1,success_times/(i+1)))\n",
    "print(\"Final average successful L2 norm: {}\".format(L2/success_times))"
   ]
  },
  {
   "cell_type": "code",
   "execution_count": 14,
   "metadata": {},
   "outputs": [
    {
     "name": "stdout",
     "output_type": "stream",
     "text": [
      "Pred label: 9\n",
      "Target label: 9\n",
      "True label: 5\n",
      "L2 norm: 392.6171875\n"
     ]
    },
    {
     "data": {
      "text/plain": [
       "<matplotlib.image.AxesImage at 0x28e808c2668>"
      ]
     },
     "execution_count": 14,
     "metadata": {},
     "output_type": "execute_result"
    },
    {
     "data": {
      "image/png": "[encoded data removed]",
      "text/plain": [
       "<Figure size 432x288 with 3 Axes>"
      ]
     },
     "metadata": {},
     "output_type": "display_data"
    }
   ],
   "source": [
    "index = np.random.randint(60000)\n",
    "inX = train_data.train_data[index]\n",
    "trueY = train_data.train_labels[index].item()\n",
    "targetY = np.random.randint(10)\n",
    "targetY = (targetY+1)%10 if targetY == trueY else targetY\n",
    "adX = adversarial_v1(inX,targetY,net,criterion,500)\n",
    "predY = net(adX+inX.unsqueeze(0)).max(1)[1].item()\n",
    "\n",
    "print(\"Pred label:\",predY)\n",
    "print(\"Target label:\",targetY)\n",
    "print(\"True label:\",trueY)\n",
    "print(\"L2 norm:\",t.sqrt((adX**2).sum()).item())\n",
    "\n",
    "pic1 = inX.cpu().numpy().reshape(28,28)\n",
    "mpl.subplot(131)\n",
    "mpl.imshow(pic1,cmap = 'gray')\n",
    "pic2 = adX+inX.unsqueeze(0)\n",
    "pic2 = pic2.squeeze(0).cpu().detach().numpy().reshape(28,28)\n",
    "mpl.subplot(132)\n",
    "mpl.imshow(pic2,cmap = 'gray')\n",
    "pic3 = pic2-pic1\n",
    "mpl.subplot(133)\n",
    "mpl.imshow(pic3,cmap = 'gray')"
   ]
  },
  {
   "cell_type": "code",
   "execution_count": 36,
   "metadata": {},
   "outputs": [],
   "source": [
    "def adversarial_v2(inX,targetLabel,net,criterion,iteration,lr,eps):\n",
    "    inX_ = inX.unsqueeze(0)\n",
    "    targetY = t.tensor(targetLabel).unsqueeze(0).long().to(device)\n",
    "    adX = t.tensor(inX_.data,device = device,requires_grad = True)\n",
    "    for i in range(iteration):\n",
    "        predY = net(adX)\n",
    "        loss = criterion(predY,targetY)\n",
    "        net.zero_grad()\n",
    "        if adX.grad is not None:\n",
    "            adX.grad.data.fill_(0)\n",
    "        loss.backward()\n",
    "        adX = adX-lr*t.sign(adX.grad)\n",
    "        adX = t.where(adX>inX_+eps,inX_+eps,adX)\n",
    "        adX = t.where(adX<inX_-eps,inX_-eps,adX)\n",
    "        adX = t.clamp(adX,0,255)\n",
    "        adX = t.tensor(adX.data,device = device,requires_grad = True)\n",
    "\n",
    "    return adX"
   ]
  },
  {
   "cell_type": "code",
   "execution_count": 16,
   "metadata": {},
   "outputs": [
    {
     "name": "stdout",
     "output_type": "stream",
     "text": [
      "Epoch 10 success rate: 0.5.\n",
      "Epoch 20 success rate: 0.65.\n",
      "Epoch 30 success rate: 0.5333333333333333.\n",
      "Epoch 40 success rate: 0.5.\n",
      "Epoch 50 success rate: 0.56.\n",
      "Epoch 60 success rate: 0.5333333333333333.\n",
      "Epoch 70 success rate: 0.5142857142857142.\n",
      "Epoch 80 success rate: 0.525.\n",
      "Epoch 90 success rate: 0.5111111111111111.\n",
      "Epoch 100 success rate: 0.5.\n",
      "Final average successful L2 norm: 477.3976745605469\n"
     ]
    }
   ],
   "source": [
    "total_size = 100\n",
    "L2 = 0\n",
    "success_times = 0\n",
    "for i in range(total_size):\n",
    "    inX = train_data.train_data[i]\n",
    "    trueY = train_data.train_labels[i].item()\n",
    "    targetY = np.random.randint(10)\n",
    "    if trueY == targetY:\n",
    "        targetY = (targetY+1)%10\n",
    "    adX = adversarial_v2(inX,targetY,net,criterion,500,1,25)\n",
    "    output = net(adX)\n",
    "    predY = output.max(1)[1].item()\n",
    "    if predY == targetY:\n",
    "        success_times += 1 \n",
    "        L2 += t.sqrt(((adX-inX)**2).sum())\n",
    "    if i%10 == 9:\n",
    "        print(\"Epoch {} success rate: {}.\".format(i+1,success_times/(i+1)))\n",
    "print(\"Final average successful L2 norm: {}\".format(L2/success_times))"
   ]
  },
  {
   "cell_type": "code",
   "execution_count": 30,
   "metadata": {
    "scrolled": false
   },
   "outputs": [
    {
     "name": "stdout",
     "output_type": "stream",
     "text": [
      "Pred label: 2\n",
      "Target label: 2\n",
      "True label: 7\n",
      "L2 norm: 479.2452392578125\n"
     ]
    },
    {
     "data": {
      "text/plain": [
       "<matplotlib.image.AxesImage at 0x28ef5cc3ac8>"
      ]
     },
     "execution_count": 30,
     "metadata": {},
     "output_type": "execute_result"
    },
    {
     "data": {
      "image/png": "[encoded data removed]",
      "text/plain": [
       "<Figure size 432x288 with 3 Axes>"
      ]
     },
     "metadata": {},
     "output_type": "display_data"
    }
   ],
   "source": [
    "index = np.random.randint(60000)\n",
    "inX = train_data.train_data[index]\n",
    "trueY = train_data.train_labels[index].item()\n",
    "targetY = np.random.randint(10)\n",
    "targetY = (targetY+1)%10 if targetY == trueY else targetY\n",
    "adX = adversarial_v2(inX,targetY,net,criterion,500,10,25)\n",
    "predY = net(adX).max(1)[1].item()\n",
    "\n",
    "print(\"Pred label:\",predY)\n",
    "print(\"Target label:\",targetY)\n",
    "print(\"True label:\",trueY)\n",
    "print(\"L2 norm:\",t.sqrt(((adX-inX)**2).sum()).item())\n",
    "\n",
    "pic1 = inX.cpu().numpy().reshape(28,28)\n",
    "mpl.subplot(131)\n",
    "mpl.imshow(pic1,cmap = 'gray')\n",
    "pic2 = adX.cpu().detach().numpy().reshape(28,28)\n",
    "mpl.subplot(132)\n",
    "mpl.imshow(pic2,cmap = 'gray')\n",
    "pic3 = pic2-pic1\n",
    "mpl.subplot(133)\n",
    "mpl.imshow(pic3,cmap = 'gray')"
   ]
  }
 ],
 "metadata": {
  "kernelspec": {
   "display_name": "Python 3",
   "language": "python",
   "name": "python3"
  },
  "language_info": {
   "codemirror_mode": {
    "name": "ipython",
    "version": 3
   },
   "file_extension": ".py",
   "mimetype": "text/x-python",
   "name": "python",
   "nbconvert_exporter": "python",
   "pygments_lexer": "ipython3",
   "version": "3.6.4"
  }
 },
 "nbformat": 4,
 "nbformat_minor": 2
}
