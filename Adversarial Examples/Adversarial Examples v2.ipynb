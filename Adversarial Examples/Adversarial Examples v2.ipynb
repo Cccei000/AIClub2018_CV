{
 "cells": [
  {
   "cell_type": "code",
   "execution_count": 1,
   "metadata": {},
   "outputs": [],
   "source": [
    "import torch as t\n",
    "import torch.nn as nn\n",
    "import torch.nn.functional as F\n",
    "import torchvision as tv\n",
    "import torchvision.transforms as transforms\n",
    "import numpy as np\n",
    "import matplotlib.pyplot as mpl\n",
    "%matplotlib inline"
   ]
  },
  {
   "cell_type": "code",
   "execution_count": 2,
   "metadata": {},
   "outputs": [],
   "source": [
    "device = t.device(\"cuda\" if t.cuda.is_available() else \"cpu\")"
   ]
  },
  {
   "cell_type": "code",
   "execution_count": 3,
   "metadata": {},
   "outputs": [],
   "source": [
    "train_data = tv.datasets.MNIST(\n",
    "    './MNIST_data',train = True,transform = transforms.ToTensor(),download = True)\n",
    "test_data = tv.datasets.MNIST(\n",
    "    './MNIST_data',train = False,transform = transforms.ToTensor())\n",
    "train_data.train_data = train_data.train_data.unsqueeze(1).float()/255\n",
    "test_data.test_data = test_data.test_data.unsqueeze(1).float().to(device)/255\n",
    "test_data.test_labels = test_data.test_labels.to(device)"
   ]
  },
  {
   "cell_type": "code",
   "execution_count": 4,
   "metadata": {},
   "outputs": [],
   "source": [
    "class Net(nn.Module):\n",
    "    def __init__(self):\n",
    "        super(Net,self).__init__()\n",
    "        self.conv1 = nn.Conv2d(1,8,5)\n",
    "        self.pool = nn.MaxPool2d(2,2)\n",
    "        self.conv2 = nn.Conv2d(8,16,5)\n",
    "        self.conv3 = nn.Conv2d(16,20,5)\n",
    "        self.fc1 = nn.Linear(20*4*4,50)\n",
    "        self.fc2 = nn.Linear(50,10)\n",
    "        \n",
    "    def forward(self,x):\n",
    "        x = F.relu(self.conv1(x))\n",
    "        x = self.pool(x)\n",
    "        x = F.relu(self.conv2(x))\n",
    "        x = F.relu(self.conv3(x))\n",
    "        x = x.view(-1,20*4*4)\n",
    "        x = F.relu(self.fc1(x))\n",
    "        x = self.fc2(x)\n",
    "        return x        "
   ]
  },
  {
   "cell_type": "code",
   "execution_count": 5,
   "metadata": {},
   "outputs": [],
   "source": [
    "net = Net()\n",
    "net.to(device)\n",
    "criterion = nn.CrossEntropyLoss()\n",
    "optimizer = t.optim.Adam(net.parameters())"
   ]
  },
  {
   "cell_type": "code",
   "execution_count": 6,
   "metadata": {},
   "outputs": [
    {
     "name": "stdout",
     "output_type": "stream",
     "text": [
      "Epoch 0 accuracy: 0.955\n",
      "Epoch 1 accuracy: 0.9741\n",
      "Epoch 2 accuracy: 0.9797\n",
      "Epoch 3 accuracy: 0.9827\n",
      "Epoch 4 accuracy: 0.9845\n",
      "Epoch 5 accuracy: 0.9854\n",
      "Epoch 6 accuracy: 0.9849\n",
      "Epoch 7 accuracy: 0.9869\n",
      "Epoch 8 accuracy: 0.9861\n",
      "Epoch 9 accuracy: 0.9868\n"
     ]
    }
   ],
   "source": [
    "batch_size = 100\n",
    "epochs = int(60000/batch_size)\n",
    "net.zero_grad()\n",
    "for _ in range(10):\n",
    "    for i in range(epochs):\n",
    "        batch_x = train_data.train_data[batch_size*i:batch_size*(i+1)].to(device)\n",
    "        batch_y = train_data.train_labels[batch_size*i:batch_size*(i+1)].to(device)      \n",
    "        pred_y = net(batch_x)\n",
    "        loss = criterion(pred_y,batch_y)\n",
    "        optimizer.zero_grad()\n",
    "        loss.backward()\n",
    "        optimizer.step()\n",
    "    out = net(test_data.test_data)\n",
    "    pred = out.max(1)[1]\n",
    "    num_correct = (pred == test_data.test_labels).sum()\n",
    "    print('Epoch {} accuracy:'.format(_),num_correct.item()/10000)"
   ]
  },
  {
   "cell_type": "code",
   "execution_count": 7,
   "metadata": {},
   "outputs": [],
   "source": [
    "net.to(t.device(\"cpu\"))\n",
    "def adversarial_v1_plus(inputs,labels,net,criterion,epochs):\n",
    "    inputs_ = inputs.unsqueeze(0)\n",
    "    adX = t.rand(1,1,28,28).float()\n",
    "    adX.requires_grad = True\n",
    "    adY = t.tensor(labels).unsqueeze(0).long()\n",
    "    optimizer = t.optim.SGD([adX],lr=0.1,momentum=0.9)\n",
    "    for i in range(epochs):    \n",
    "        inX = adX+inputs_\n",
    "        loss1 = criterion(net(inX),adY)\n",
    "        loss2 = t.abs(adX.mean()) #work better than loss3 before regularization, but not enough\n",
    "        loss3 = t.sqrt((adX**2).sum()) #greatly improve results after regularization\n",
    "        loss = loss1+loss3\n",
    "        optimizer.zero_grad()\n",
    "        loss.backward()\n",
    "        optimizer.step()\n",
    "        #adX.data = t.clamp(adX,-0.1,0.1) #worsen effect a little bit after regulariztion\n",
    "        #if i%100 == 99:\n",
    "            #print(loss1.item(),loss2.item(),loss3.item())\n",
    "    return adX"
   ]
  },
  {
   "cell_type": "code",
   "execution_count": 8,
   "metadata": {},
   "outputs": [
    {
     "name": "stdout",
     "output_type": "stream",
     "text": [
      "Pred label: 2\n",
      "Target label: 2\n",
      "True label: 4\n",
      "L2 norm: 1.1336240768432617\n"
     ]
    },
    {
     "data": {
      "image/png": "[encoded data removed]",
      "text/plain": [
       "<Figure size 432x288 with 3 Axes>"
      ]
     },
     "metadata": {},
     "output_type": "display_data"
    }
   ],
   "source": [
    "index = np.random.randint(60000)\n",
    "inX = train_data.train_data[index]\n",
    "trueY = train_data.train_labels[index].item()\n",
    "targetY = np.random.randint(10)\n",
    "targetY = (targetY+1)%10 if targetY == trueY else targetY\n",
    "adX = adversarial_v1_plus(inX,targetY,net,criterion,500)\n",
    "predY = net(adX+inX.unsqueeze(0)).max(1)[1].item()\n",
    "\n",
    "print(\"Pred label:\",predY)\n",
    "print(\"Target label:\",targetY)\n",
    "print(\"True label:\",trueY)\n",
    "print(\"L2 norm:\",t.sqrt((adX**2).sum()).item())\n",
    "\n",
    "pic1 = inX.cpu().numpy().reshape(28,28)\n",
    "mpl.subplot(131)\n",
    "mpl.imshow(pic1,cmap = 'gray')\n",
    "pic2 = adX+inX.unsqueeze(0)\n",
    "pic2 = pic2.squeeze(0).cpu().detach().numpy().reshape(28,28)\n",
    "mpl.subplot(132)\n",
    "mpl.imshow(pic2,cmap = 'gray')\n",
    "pic3 = pic2-pic1\n",
    "mpl.subplot(133)\n",
    "mpl.imshow(pic3,cmap = 'gray')\n",
    "mpl.savefig(\"v1_plus.jpg\") "
   ]
  },
  {
   "cell_type": "code",
   "execution_count": 9,
   "metadata": {},
   "outputs": [
    {
     "name": "stdout",
     "output_type": "stream",
     "text": [
      "Epoch 100 success rate: 0.99.\n",
      "Epoch 200 success rate: 0.99.\n",
      "Epoch 300 success rate: 0.9933333333333333.\n",
      "Epoch 400 success rate: 0.995.\n",
      "Epoch 500 success rate: 0.994.\n",
      "Epoch 600 success rate: 0.9933333333333333.\n",
      "Epoch 700 success rate: 0.9942857142857143.\n",
      "Epoch 800 success rate: 0.995.\n",
      "Epoch 900 success rate: 0.9955555555555555.\n",
      "Epoch 1000 success rate: 0.996.\n",
      "Final average successful L2 norm: 2.097500801086426\n"
     ]
    }
   ],
   "source": [
    "total_size = 1000\n",
    "success_times = 0\n",
    "L2 = 0\n",
    "for i in range(total_size):\n",
    "    inX = train_data.train_data[i]\n",
    "    trueY = train_data.train_labels[i].item()\n",
    "    targetY = np.random.randint(10)\n",
    "    if trueY == targetY:\n",
    "        targetY = (targetY+1)%10\n",
    "    adX = adversarial_v1_plus(inX,targetY,net,criterion,100)\n",
    "    output = net(adX+inX.unsqueeze(0))\n",
    "    predY = output.max(1)[1].item()\n",
    "    if predY == targetY:\n",
    "        success_times += 1 \n",
    "        L2 += t.sqrt((adX**2).sum())\n",
    "    if i%100 == 99:\n",
    "        print(\"Epoch {} success rate: {}.\".format(i+1,success_times/(i+1)))\n",
    "print(\"Final average successful L2 norm: {}\".format(L2/success_times))"
   ]
  }
 ],
 "metadata": {
  "kernelspec": {
   "display_name": "Python 3",
   "language": "python",
   "name": "python3"
  },
  "language_info": {
   "codemirror_mode": {
    "name": "ipython",
    "version": 3
   },
   "file_extension": ".py",
   "mimetype": "text/x-python",
   "name": "python",
   "nbconvert_exporter": "python",
   "pygments_lexer": "ipython3",
   "version": "3.6.4"
  }
 },
 "nbformat": 4,
 "nbformat_minor": 2
}
